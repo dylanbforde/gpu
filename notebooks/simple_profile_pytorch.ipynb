{
 "cells": [
  {
   "cell_type": "code",
   "execution_count": 10,
   "id": "9bb58101",
   "metadata": {},
   "outputs": [],
   "source": [
    "import torch\n",
    "import math"
   ]
  },
  {
   "cell_type": "code",
   "execution_count": 4,
   "id": "7adb33c1",
   "metadata": {},
   "outputs": [],
   "source": [
    "def time_pytorch_function(function, input):\n",
    "    start = torch.cuda.Event(enable_timing=True)\n",
    "    end = torch.cuda.Event(enable_timing=True)\n",
    "    \n",
    "    # Warmup time\n",
    "    for i in range(10):\n",
    "        function(input)\n",
    "    \n",
    "    start.record()\n",
    "    function(input)\n",
    "    end.record()\n",
    "    torch.cuda.synchronize()\n",
    "    \n",
    "    return start.elapsed_time(end)"
   ]
  },
  {
   "cell_type": "code",
   "execution_count": 14,
   "id": "b85e53b0",
   "metadata": {},
   "outputs": [],
   "source": [
    "tensor = torch.tensor([1, 2, 3, 4])\n",
    "\n",
    "b = torch.randn(10000, 10000)\n",
    "\n",
    "def square_version_1(tensor):\n",
    "    tensor * tensor\n",
    "    \n",
    "def square_version_2(tensor):\n",
    "    tensor ** 2"
   ]
  },
  {
   "cell_type": "code",
   "execution_count": null,
   "id": "f6a47b10",
   "metadata": {},
   "outputs": [],
   "source": [
    "time_pytorch_function(torch.square, b)\n",
    "time_pytorch_function(square_version_1, b)\n",
    "time_pytorch_function(square_version_2, b)"
   ]
  }
 ],
 "metadata": {
  "kernelspec": {
   "display_name": "gpu",
   "language": "python",
   "name": "python3"
  },
  "language_info": {
   "codemirror_mode": {
    "name": "ipython",
    "version": 3
   },
   "file_extension": ".py",
   "mimetype": "text/x-python",
   "name": "python",
   "nbconvert_exporter": "python",
   "pygments_lexer": "ipython3",
   "version": "3.10.16"
  }
 },
 "nbformat": 4,
 "nbformat_minor": 5
}
